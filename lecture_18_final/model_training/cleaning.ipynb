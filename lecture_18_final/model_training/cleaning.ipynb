{
 "cells": [
  {
   "cell_type": "code",
   "execution_count": 36,
   "metadata": {},
   "outputs": [],
   "source": [
    "import os\n",
    "import cv2 as cv\n",
    "import numpy as np\n",
    "import matplotlib.pyplot as plt\n",
    "from PIL import Image, ImageOps"
   ]
  },
  {
   "cell_type": "markdown",
   "metadata": {},
   "source": [
    "#### crop faces"
   ]
  },
  {
   "cell_type": "code",
   "execution_count": 2,
   "metadata": {},
   "outputs": [],
   "source": [
    "RAW_PATH= \"../data/raw\"\n",
    "FACE_PATH = \"../data/faces\""
   ]
  },
  {
   "cell_type": "code",
   "execution_count": 3,
   "metadata": {},
   "outputs": [],
   "source": [
    "os.makedirs(FACE_PATH + \"/happy\")\n",
    "os.makedirs(FACE_PATH + \"/sad\")"
   ]
  },
  {
   "cell_type": "code",
   "execution_count": 4,
   "metadata": {},
   "outputs": [],
   "source": [
    "face_cascade = cv.CascadeClassifier(cv.data.haarcascades + 'haarcascade_frontalface_alt2.xml')"
   ]
  },
  {
   "cell_type": "code",
   "execution_count": 9,
   "metadata": {},
   "outputs": [],
   "source": [
    "for emotion in [\"happy\", \"sad\"]:\n",
    "    emotion_path = f\"{RAW_PATH}/{emotion}\"\n",
    "    for file in os.listdir(emotion_path):\n",
    "        img = cv.imread(f\"{emotion_path}/{file}\")\n",
    "        gray = cv.cvtColor(img, cv.COLOR_BGR2GRAY)\n",
    "\n",
    "        faces = face_cascade.detectMultiScale(gray, 1.1, 3)\n",
    "        if faces.__len__() == 0:\n",
    "            continue\n",
    "\n",
    "        for (x, y, w, h) in faces: \n",
    "            face = img[y:y + h, x:x + w] \n",
    "            cv.imwrite(f\"{FACE_PATH}/{emotion}/{file}\", face) "
   ]
  },
  {
   "cell_type": "markdown",
   "metadata": {},
   "source": [
    "#### resize with padding"
   ]
  },
  {
   "cell_type": "code",
   "execution_count": 49,
   "metadata": {},
   "outputs": [],
   "source": [
    "shapes = {\"sad\": [], \"happy\": []}\n",
    "for emotion in [\"happy\", \"sad\"]:\n",
    "    emotion_path = f\"{FACE_PATH}/{emotion}\"\n",
    "    for file in os.listdir(emotion_path):\n",
    "        img = cv.imread(f\"{emotion_path}/{file}\")\n",
    "        shapes[emotion].append(img.shape[0])"
   ]
  },
  {
   "cell_type": "code",
   "execution_count": 53,
   "metadata": {},
   "outputs": [
    {
     "data": {
      "text/plain": [
       "66.0"
      ]
     },
     "execution_count": 53,
     "metadata": {},
     "output_type": "execute_result"
    }
   ],
   "source": [
    "np.median(shapes[\"happy\"])"
   ]
  },
  {
   "cell_type": "code",
   "execution_count": 43,
   "metadata": {},
   "outputs": [],
   "source": [
    "RESIZED_PATH = \"../data/resized\"\n",
    "os.makedirs(RESIZED_PATH + \"/happy\")\n",
    "os.makedirs(RESIZED_PATH + \"/sad\")"
   ]
  },
  {
   "cell_type": "code",
   "execution_count": 44,
   "metadata": {},
   "outputs": [],
   "source": [
    "TARGET_SIZE = 60, 60\n",
    "\n",
    "for emotion in [\"happy\", \"sad\"]:\n",
    "    emotion_path = f\"{FACE_PATH}/{emotion}\"\n",
    "    for file in os.listdir(emotion_path):\n",
    "        img = Image.open(f\"{emotion_path}/{file}\")\n",
    "        if img.size[0] < TARGET_SIZE[0]:\n",
    "            delta_width = 60 - img.size[0]\n",
    "            delta_height = 60 - img.size[1]\n",
    "\n",
    "            pad_width = delta_width // 2\n",
    "            pad_height = delta_height // 2\n",
    "            padding = (pad_width, pad_height, delta_width - pad_width, delta_height - pad_height)\n",
    "            img = ImageOps.expand(img, padding)\n",
    "        else:\n",
    "            img.thumbnail((60, 60), Image.Resampling.LANCZOS)\n",
    "\n",
    "        img.save(f\"{RESIZED_PATH}/{emotion}/{file}\")"
   ]
  }
 ],
 "metadata": {
  "kernelspec": {
   "display_name": "venv",
   "language": "python",
   "name": "python3"
  },
  "language_info": {
   "codemirror_mode": {
    "name": "ipython",
    "version": 3
   },
   "file_extension": ".py",
   "mimetype": "text/x-python",
   "name": "python",
   "nbconvert_exporter": "python",
   "pygments_lexer": "ipython3",
   "version": "3.12.1"
  }
 },
 "nbformat": 4,
 "nbformat_minor": 2
}
