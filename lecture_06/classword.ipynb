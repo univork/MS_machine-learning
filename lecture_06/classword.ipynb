{
 "cells": [
  {
   "cell_type": "code",
   "execution_count": null,
   "metadata": {},
   "outputs": [],
   "source": [
    "import numpy as np"
   ]
  },
  {
   "cell_type": "markdown",
   "metadata": {},
   "source": [
    "მოახდინეთ ორი ვექტორის გამრავლების მოდელირება. მოიყვანეთ ორი მაგალითი\n",
    "(შემთხვევითი და სტატიკური რიცხვებისთვის)"
   ]
  },
  {
   "cell_type": "code",
   "execution_count": null,
   "metadata": {},
   "outputs": [],
   "source": [
    "v1 = np.array([1, 2, 3, 4, 5])\n",
    "v2 = np.random.randint(1, 100, 5)\n",
    "\n",
    "v1 * v2"
   ]
  },
  {
   "cell_type": "markdown",
   "metadata": {},
   "source": [
    "შეავსეთ 3x3 მატრიცა შემთხვევითი რიცხვებით [0, 10] შუალედიდან. გამოიყენეთ numpy\n",
    "ბიბლიოთეკა."
   ]
  },
  {
   "cell_type": "code",
   "execution_count": null,
   "metadata": {},
   "outputs": [],
   "source": [
    "np.random.randint(0, 11, (3, 3))"
   ]
  },
  {
   "cell_type": "markdown",
   "metadata": {},
   "source": [
    "შეავსეთ ორი 10x10 მატრიცა შემთხვევითი რიცხვებით [0, 10] შუალედიდან. გადაიყვანეთ\n",
    "ორივე მატრიცა ერთ ლისტად. გამოიყენეთ numpy ბიბლიოთეკა."
   ]
  },
  {
   "cell_type": "code",
   "execution_count": null,
   "metadata": {},
   "outputs": [],
   "source": [
    "a1 = np.random.randint(0, 11, size=(10, 10))\n",
    "a2 = np.random.randint(0, 11, size=(10, 10))\n",
    "\n",
    "np.concatenate([a1, a2]).reshape(-1)"
   ]
  },
  {
   "cell_type": "markdown",
   "metadata": {},
   "source": [
    "განსაზღვრეთ 36 ელემენტიანი შემთხვევით [0, 100] შუალედიდან მთელ რიცხვთა 1\n",
    "განზომილებიანი, 2 განზომილებიანი და 3 განზომილებიანი numpy მასივები და\n",
    "დაბეჭდეთ."
   ]
  },
  {
   "cell_type": "code",
   "execution_count": null,
   "metadata": {},
   "outputs": [],
   "source": [
    "v1d = np.random.randint(0, 101, size=36)\n",
    "v2d = np.random.randint(0, 101, size=(18, 18))\n",
    "v3d = np.random.randint(0, 101, size=(12, 12, 12))\n",
    "\n",
    "print(v1d)\n",
    "print(v2d)\n",
    "print(v3d)"
   ]
  },
  {
   "cell_type": "markdown",
   "metadata": {},
   "source": [
    "განსაზღვრეთ 36 ელემენტიანი შემთხვევით [0, 100] შუალედიდან მთელ რიცხვთა 1\n",
    "განზომილებიანი a მასივი, numpy-ის საშუალებით ააგეთ ახალი მასივი, რომელშიდაც\n",
    "შეინახავთ a მასივის ყოველ ელემენტის განაყოფს კლავიატურიდან შეტანილი რიცხვზე.\n",
    "ააგეთ ახალი მასივი, რომელშიდაც შეინახავთ a მასივის ყოველ ელემენტის მთელ\n",
    "განაყოფს კლავიატურიდან შეტანილი რიცხვზე."
   ]
  },
  {
   "cell_type": "code",
   "execution_count": 101,
   "metadata": {},
   "outputs": [
    {
     "name": "stdout",
     "output_type": "stream",
     "text": [
      "[ 3.8  5.4 12.   3.4 13.4 17.4 15.6  6.4  2.6 13.8  6.4  1.2  9.2  5.2\n",
      "  7.8 16.4 19.  18.  15.  20.   3.4 13.6  2.8  3.8 19.  15.8 17.8 14.8\n",
      " 12.8 11.2 11.6 16.6 14.  17.4 12.2 11.4]\n",
      "[ 3  5 12  3 13 17 15  6  2 13  6  1  9  5  7 16 19 18 15 20  3 13  2  3\n",
      " 19 15 17 14 12 11 11 16 14 17 12 11]\n"
     ]
    }
   ],
   "source": [
    "a = np.random.randint(0, 101, size=36)\n",
    "n = int(input(\"n = \"))\n",
    "\n",
    "divf = a / n\n",
    "divi = a // n\n",
    "\n",
    "print(divf)\n",
    "print(divi)"
   ]
  },
  {
   "cell_type": "markdown",
   "metadata": {},
   "source": [
    "numpy-ის საშუალებით იპოვეთ შემდეგი მრავალწევრის ფესვები"
   ]
  },
  {
   "cell_type": "code",
   "execution_count": 104,
   "metadata": {},
   "outputs": [
    {
     "data": {
      "text/plain": [
       "array([-1.28916717+0.j        ,  0.04734034+0.62532144j,\n",
       "        0.04734034-0.62532144j,  0.39448649+0.j        ])"
      ]
     },
     "execution_count": 104,
     "metadata": {},
     "output_type": "execute_result"
    }
   ],
   "source": [
    "np.roots([-5, 4, 1])\n",
    "np.roots([-5, -4, 1, -2, 1])"
   ]
  },
  {
   "cell_type": "markdown",
   "metadata": {},
   "source": [
    "numpy-ის საშუალებით იპოვეთ მატრიცის დეტერმინანტი 2, 3, 4, 5 განზომილების\n",
    "შემთხვევაში."
   ]
  },
  {
   "cell_type": "code",
   "execution_count": 112,
   "metadata": {},
   "outputs": [
    {
     "name": "stdout",
     "output_type": "stream",
     "text": [
      "4943.999999999999\n",
      "-63881.99999999996\n",
      "-15605315.999999998\n",
      "256454323.9999992\n"
     ]
    }
   ],
   "source": [
    "m2 = np.random.randint(0, 101, size=(2, 2))\n",
    "print(np.linalg.det(m2))\n",
    "\n",
    "m3 = np.random.randint(0, 101, size=(3, 3))\n",
    "print(np.linalg.det(m3))\n",
    "\n",
    "m4 = np.random.randint(0, 101, size=(4, 4))\n",
    "print(np.linalg.det(m4))\n",
    "\n",
    "m5 = np.random.randint(0, 101, size=(5, 5))\n",
    "print(np.linalg.det(m5))"
   ]
  }
 ],
 "metadata": {
  "kernelspec": {
   "display_name": "venv",
   "language": "python",
   "name": "python3"
  },
  "language_info": {
   "codemirror_mode": {
    "name": "ipython",
    "version": 3
   },
   "file_extension": ".py",
   "mimetype": "text/x-python",
   "name": "python",
   "nbconvert_exporter": "python",
   "pygments_lexer": "ipython3",
   "version": "3.11.7"
  }
 },
 "nbformat": 4,
 "nbformat_minor": 2
}
